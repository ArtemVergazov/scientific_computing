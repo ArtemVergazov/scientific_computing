{
 "cells": [
  {
   "cell_type": "markdown",
   "metadata": {
    "id": "KTIHY5qblrx0"
   },
   "source": [
    "## Scientific Computing 2021: Final exam \n",
    "Friday October 29, 2021, 16:00 - 19:00\n",
    "\n",
    "This exam includes **5 tasks** based on the lecture materials and **7 problems** based on the materials of exercise sessions and homeworks. Each fully solved task or problem gives you 2 points. To obtain the full grade  you need to achieve the total score of 20 points."
   ]
  },
  {
   "cell_type": "markdown",
   "metadata": {
    "id": "MH3nLEVWsUeN"
   },
   "source": [
    "### Task 1 (2 points)\n",
    "1. Traditional scientific and engineering approach includes only theory and experiment. List at least three disadvantages/limitations of such approach, which could be managed by adding the computational simulations. (1 point) \n",
    "\n",
    "- 1) Too difficult - conduct aerodynamic experiments on cars instead of modeling the process;\n",
    "- 2) Too expensive - do less productive oil-field reservoir jobs without running the simulations first;\n",
    "- 3) Too slow - wait for the evolution of the galaxies;\n",
    "- 4) Too dangerous - chemical reactions of burning, explosions, etc.\n",
    "\n",
    "2. List at least three applications of scientific computing. Justify your answer with explanation why computer simulations or/and mathematical modelling methods are important in those areas. (1 point) \n",
    "\n",
    "- 1) Math modeling in `oil-field industry` is important because you can define the optimal pumping parameters (i.e. rate, fluid volume, net pressure) which maximize the productivity of the reservoir without spoiling the well.\n",
    "- 2) `Image processing` utilizes integral transforms and machine learning methods from Scientific Computing, important for face recognition tasks, self-driving cars, etc.\n",
    "- 3) `Bioinformatics` extracts the data from the DNA sequences using SciComp methods."
   ]
  },
  {
   "cell_type": "markdown",
   "metadata": {
    "id": "5ia_JQzWsmlv"
   },
   "source": [
    "### Task 2 (2 points)\n",
    "1. Explain the overheads of Parallelism. (1 point) \n",
    "\n",
    "These are the inefficiencies that can slow down your parallelized code:\n",
    "\n",
    "- 1. starting a thread or process takes extra time;\n",
    "- 2. communicating data between processes - one process can spend some time waiting for the other process to send its data;\n",
    "- 3. synchronizing the processes;\n",
    "- 4. extra (redundant) computation.\n",
    "\n",
    "Tradeoff: too many of small processes will make these overheads comparable to the initial computational time of the program but too little of large processes won't give enough parallelization. The size of units should be sufficiently large but not too large.\n",
    "\n",
    "2. Give the definition of OpenMP and MPI. Explain difference between them. Write down pros and cons of both. (1 point)\n",
    "\n",
    "**MPI (Message Passing Interface)**.\n",
    "\n",
    "Description:\n",
    "\n",
    "1. For distributed and shared memory.\n",
    "2. Computational domain is typically decomposed into regions - one region assigned to each processor.\n",
    "3. Separate copy of program runs on each processor.\n",
    "\n",
    "Pros:\n",
    "\n",
    "1. Portable.\n",
    "2. Freely downloadable.\n",
    "\n",
    "Cons:\n",
    "\n",
    "1. Sending messages can be expensive, ratio of computation to communication needs to be taken care of.\n",
    "\n",
    "**OpenMP (Open Multi-Processing)**.\n",
    "\n",
    "Description:\n",
    "\n",
    "1. Usually loop-level parallelization. \n",
    "2. Assigns subset of loop indices to each processor.\n",
    "3. Shared memory only.\n",
    "\n",
    "Pros:\n",
    "\n",
    "1. Usually easier than MPI, can be implemented incrementally.\n",
    "2. No message passing since each processor can see the whole domain.\n",
    "\n",
    "Cons:\n",
    "\n",
    "1. Must be supported by the compiler."
   ]
  },
  {
   "cell_type": "markdown",
   "metadata": {
    "id": "AloBEt3Fs0Gv"
   },
   "source": [
    "### Task 3 (2 points)\n",
    "1. What is the Cauchy problem for an ODE? Give the general form and an example. Under which condition a Cauchy problem has the unique solution? (1 point)\n",
    "\n",
    "Caughy problem for an ODE in general form is the system of N ODEs of 1st order with N initial conditions:\n",
    "$$\\begin{cases} \\frac{d\\vec{y}}{dx} = \\vec{f}(x, \\vec{y}) \\\\ \\vec{y}(x_0) = \\vec{y}^0 \\end{cases}$$\n",
    "\n",
    "where $\\vec{y}: R \\rightarrow R^N$, $\\vec{f}: R \\times R^N \\rightarrow R^N$, $x \\in [x_0, x_1]$, $\\vec{y}^0 = (y_1^0(x_0), y_2^0(x_0), ..., y_N^0(x_0))$\n",
    "\n",
    "Example (1D y):\n",
    "$$\\begin{cases} \\frac{dy}{dx} = y \\\\ y(x_0) = 2 \\end{cases}$$\n",
    "$$0 <= x <= 10$$\n",
    "\n",
    "The solution of the example: $y(x) = 2e^{x}$\n",
    "\n",
    "**Theorem.** There exists no more than one solution of the Cauchy problem for a system of ODEs if the right-hand side is Lipschitz continuous: there exists a constant $L$ such that $||\\vec{f}(x, \\vec{y_1}) - \\vec{f}(x, \\vec{y_2})|| \\le L||\\vec{y_1} - \\vec{y_2}||$ for any $x$, $\\vec{y_1}$, $\\vec{y_2}$ from the domain of $\\vec{f}$.\n",
    "\n",
    "2. Describe the idea of the Molecular dynamics method. (1 point)\n",
    "\n",
    "The main idea - use classical mechanics laws to describe the motion of the particles. The interior forces of interaction between particles inside the system are considered as classical potential forces. Applying Newton's laws to the system, we can obtain accurate trajectories of the particles.\n",
    "\n",
    "Limitations:\n",
    "- the particle sizes are considered much smaller than the distances between them\n",
    "- in case of atoms, molecules and other quantum sized objects at low temperatures, quantum effects need to be taken into consideration."
   ]
  },
  {
   "cell_type": "markdown",
   "metadata": {
    "id": "mQPy1Xwps3Rh"
   },
   "source": [
    "### Task 4 (2 points)\n",
    "1. Why do we need to study wavelets? Which advantages the wavelets transform has in comparison with Fourier Transform? (1 point)\n",
    "\n",
    "When analyzing the function with the Fourier transform, we gain the information about spectral features of it, what main frequences dominate, what is the distribution of the frequences and so on, but we lose the information about the time space. We can no longer locate the time at spot at which the phenomenon with the exact frequency occurred. Alse FT cannot locate time trends, beginnings and ends of the events and so on.\n",
    "\n",
    "With wavelets, we still obtain the spectral analysis of the function but with do not lose the time information.\n",
    "\n",
    "2. Write the general form of the Integral Equation. Describe its parts and provide the classification of integral equations with respect to those parts. (1 point) \n",
    "\n",
    "$g(x)y(x) - Ay(x) = f(x)$\n",
    "\n",
    "$A$ — integral operator:\n",
    "$Ay(x) = \\lambda \\int_\\Omega K(x, \\xi)y(\\xi)d\\xi$\n",
    "\n",
    "$\\Omega$ — the computational domain\n",
    "\n",
    "$K(x, \\xi)$ — the Kernel function\n",
    "\n",
    "$y(x)$ — the unknown function to be determined\n",
    "\n",
    "$f (x)$ — right-hand side, heterogeneity\n",
    "\n",
    "Classification of integral equations:\n",
    "- of first kind: $g(x) \\equiv 0$ (commonly ill-posed)\n",
    "$$Ay(x) = f(x)$$\n",
    "- of second kind: (commonly well-posed)\n",
    "$$y(x) - \\lambda Ay(x) = f(x)$$\n",
    "\n",
    "Other classification:\n",
    "- homogeneous: $f(x) \\equiv 0$\n",
    "- heterogeneous: otherwise\n",
    "\n",
    "One more:\n",
    "- Fredholm's IE - if $\\Omega$ is constant\n",
    "- Volterra's IE - if $\\Omega$ depends on $x$"
   ]
  },
  {
   "cell_type": "markdown",
   "metadata": {
    "id": "fKRf8Alxs4Gb"
   },
   "source": [
    "### Task 5 (2 points)\n",
    "1.  Provide the definitions of well-posed and ill-posed problems. Explain those two kinds of problems in terms of the operator in general form  $A\\mathbf{x} = \\mathbf{b}$. (1 point)\n",
    "\n",
    "A problem is well-posed if:\n",
    "- 1. the solution for it exists\n",
    "- 2. the solution is unique\n",
    "- 3. the solution is stable with respect to small errors to initial and boundary conditions (in terms of norm)\n",
    "Otherwise it's ill-posed.\n",
    "In terms of operator: $\\exists !x_{sol}$ such that $A\\mathbf{x_{sol}} = \\mathbf{b}$ and $\\exists C > 0$ such that $\\frac{||\\Delta x||}{||x||} < C\\frac{||\\Delta b||}{||b||}$\n",
    "\n",
    "2. What is the convolution theorem? Describe why this property is useful. Justify your answer with examples. (1 point)\n",
    "\n",
    "The convolution theorem: the Fourier transform of a convolution of two functions (or signals) is the pointwise product of their Fourier transforms. More generally, convolution in one domain (e.g., time domain) equals point-wise multiplication in the other domain (e.g., frequency domain).\n",
    "\n",
    "$\\hat{(g * h)(x)} = \\hat{G}\\hat{H}$\n",
    "\n",
    "It's usefull because in order to find the convolution of two signals as an integral operation, one can simply element-wisely multiply their Fourier transforms and apply the inverse transform."
   ]
  },
  {
   "cell_type": "markdown",
   "metadata": {
    "id": "mkVoJdfWlrx5"
   },
   "source": [
    "### Problem 1 (2 points)\n",
    "\n",
    "Assume that, as in Amdahl's law, a program has a sequential, non-parallelizable part, and the remaining part is ideally parallelizable. Suppose that the efficiency of parallelizing the program to $n_1=5$ processes is $a_1=0.5$.  Find the efficiency of parallelizing the program to $n_2=2$ processes.\n",
    "\n",
    "Let $s$ be the serial part of the job.\n",
    "\n",
    "$$a_1 = \\frac{1}{n_1 s + 1 - s}$$\n",
    "\n",
    "\n",
    "$$s = \\frac{\\frac{1}{a_1} - 1}{n_1 - 1}$$\n",
    "\n",
    "\n",
    "$$a_2 = \\frac{1}{n_2 s + 1 - s} = \\frac{1}{n_2 \\frac{\\frac{1}{a_1} - 1}{n_1 - 1} + 1 - \\frac{\\frac{1}{a_1} - 1}{n_1 - 1}} = \\frac{4}{5} = 80\\%$$"
   ]
  },
  {
   "cell_type": "markdown",
   "metadata": {
    "id": "j9XEfwgklrx8"
   },
   "source": [
    "### Problem 2 (2 points)\n",
    "Write an MPI program computing the maximum of an array. The array must be randomly generated in the root process, then divided in chunks and distributed to all processes. Each process must compute the maximum in its chunk, and then the results must be reduced at the root process. "
   ]
  },
  {
   "cell_type": "code",
   "execution_count": 26,
   "metadata": {},
   "outputs": [
    {
     "name": "stdout",
     "output_type": "stream",
     "text": [
      "Check maximum: 97\n",
      "The biggest num in array is: 97\n"
     ]
    }
   ],
   "source": [
    "from mpi4py import MPI\n",
    "from os import listdir\n",
    "import numpy as np\n",
    "\n",
    "comm = MPI.COMM_WORLD\n",
    "rank = comm.Get_rank()\n",
    "size = comm.Get_size()\n",
    "\n",
    "if rank == 0:\n",
    "    arr = np.random.randint(1, 101, np.random.randint(10, 101))\n",
    "    print('Check maximum:', max(arr))\n",
    "\n",
    "chunks = [[] for _ in range(size)]\n",
    "\n",
    "c = 0\n",
    "if rank == 0:\n",
    "  for num in arr:\n",
    "    chunks[c].append(num)\n",
    "    c = (c + 1) % size\n",
    "\n",
    "local_arr = comm.scatter(chunks, root=0)\n",
    "local_max = max(local_arr)\n",
    "\n",
    "global_max = comm.reduce(local_max, op=MPI.MAX)\n",
    "\n",
    "if rank == 0:\n",
    "    print(f'The biggest num in array is: {global_max}')"
   ]
  },
  {
   "cell_type": "markdown",
   "metadata": {
    "id": "cQM4IP5alryA"
   },
   "source": [
    "### Problem 3 (2 points)\n",
    "\n",
    "We are solving the linear system $A\\mathbf x=\\mathbf b$ with $A=\\begin{pmatrix}0 & 10^{-2}\\\\ 10^{-2} & 10^3\\end{pmatrix}$ and some $\\mathbf b$. Suppose that we know $\\mathbf b$ with the relative error $\\epsilon_{\\mathbf b}=10^{-15}$. Give an upper bound for the relative error of $\\mathbf x$.\n"
   ]
  },
  {
   "cell_type": "code",
   "execution_count": 24,
   "metadata": {},
   "outputs": [
    {
     "name": "stdout",
     "output_type": "stream",
     "text": [
      "Condition number: 10000000002.009094\n"
     ]
    }
   ],
   "source": [
    "A = np.array([[0, 1e-2], [1e-2, 1e3]])\n",
    "\n",
    "print('Condition number:', np.linalg.cond(A))"
   ]
  },
  {
   "cell_type": "markdown",
   "metadata": {},
   "source": [
    "We know that\n",
    "$$\n",
    "\\frac{\\|\\Delta x\\|}{\\|x\\|} \\leq \\kappa(A) \\frac{\\|\\Delta b\\|}{\\|b\\|}\n",
    "$$\n",
    "\n",
    "$\\kappa(A)=\\left|\\frac{\\lambda_{\\max }(A)}{\\lambda_{\\min }(A)}\\right| = 10^{10}$, and upper bound on $\\|\\Delta x\\| /\\|x\\|$ is:\n",
    "\n",
    "$$\n",
    "\\frac{\\|\\Delta x\\|}{\\|x\\|} = \\kappa(A) \\frac{\\|\\Delta b\\|}{\\|b\\|} = 10^{10} \\cdot 10^{-15} = 10^{-5}\n",
    "$$"
   ]
  },
  {
   "cell_type": "markdown",
   "metadata": {
    "id": "GItY4rmzlryE"
   },
   "source": [
    "### Problem 4 (2 points)\n",
    "Consider the problem https://www.spoj.com/problems/ADASTRNG/. Explain how the problem can be solved by an algorithm of complexity $O(N\\log^c N),$ where $N$ is the length of the input string, and $c$ is some constant. Specify a particular $c$. (**Remark:** you don't need to write the program, it is sufficient to explain the logic of the algorithm). "
   ]
  },
  {
   "cell_type": "markdown",
   "metadata": {
    "id": "lDi6wSRwlryH"
   },
   "source": [
    "### Problem 5 (2 points)\n",
    "\n",
    "For which sequences $f=(f[0], f[1], \\ldots, f[N-1])$ is their Discrete Fourier Transform $\\widehat f$ **purely imaginary**?\n",
    "\n",
    "Let $\\hat{F}$ be the DFT of $f$:\n",
    "\n",
    "$Re\\hat{F}[k] = \\sum_{n = 0}^{N - 1}f[n]cos\\frac{2\\pi k n}{N}$\n",
    "\n",
    "$Im\\hat{F}[k] = -\\sum_{n = 0}^{N - 1}f[n]sin\\frac{2\\pi k n}{N}$\n",
    "\n",
    "If $\\hat{F}$ is purely imaginary, this means real part = 0.\n",
    "\n",
    "This happens when $f$ satisfies the property:\n",
    "\n",
    "$f[n] = -f[N - n - 1]cos(\\frac{2\\pi k(N - n - 1)}{N})$\n",
    "\n",
    "$f[n] = -f[N - n - 1]$ is to make the function $f$ odd and $cos(\\frac{2\\pi k(N - n - 1)}{N})$ adjusts the phase of the term.\n",
    "\n",
    "If our index $n$ were from $-N/2$ to $N/2$, there would be no need to adjust the phase. But because of the index shift, this $cos(\\frac{2\\pi k(N - n - 1)}{N})$ multiplier is necessary."
   ]
  },
  {
   "cell_type": "markdown",
   "metadata": {
    "id": "A6ueKCLrlryI"
   },
   "source": [
    "### Problem 6 (2 points)\n",
    "\n",
    "Suppose that we are solving the ODE $\\tfrac{d}{dt} x=-x$ iteratively, using the centered approximation for the derivative:\n",
    "\n",
    "$$\\frac{\\tilde x_{n+1}-\\tilde x_{n-1}}{2\\Delta t}=-\\tilde x_n.$$\n",
    "\n",
    "Determine theoretically for which $\\Delta t$ the numerical solution does not diverge, i.e. $\\sup_n \\tilde x_n^2 <\\infty$."
   ]
  },
  {
   "cell_type": "markdown",
   "metadata": {
    "id": "iKK5B88ZlryJ"
   },
   "source": [
    "### Problem 7 (2 points)\n",
    "\n",
    "Recall that the Radon transform is defined by \n",
    "\n",
    "$$Rf(\\alpha, s) =  \\int_{-\\infty}^\\infty f(z\\sin\\alpha+s\\cos\\alpha, -z\\cos\\alpha+s\\sin\\alpha) dz.$$ \n",
    "\n",
    "Suppose that $f$ is an indicator function of some set $A\\subset \\mathbb R^2$, i.e. $f(x,y)=\\begin{cases}1,& (x,y)\\in A\\\\ 0,&(x,y)\\notin A\\end{cases}$. Suppose that $Rf(\\alpha, s)=0$ for all $\\alpha, s$ such that $|s-\\cos \\alpha|>1$. What is the largest possible area of $A$? Describe this $A$."
   ]
  }
 ],
 "metadata": {
  "colab": {
   "collapsed_sections": [],
   "name": "Final_exam_2021.ipynb",
   "provenance": []
  },
  "kernelspec": {
   "display_name": "Python 3 (ipykernel)",
   "language": "python",
   "name": "python3"
  },
  "language_info": {
   "codemirror_mode": {
    "name": "ipython",
    "version": 3
   },
   "file_extension": ".py",
   "mimetype": "text/x-python",
   "name": "python",
   "nbconvert_exporter": "python",
   "pygments_lexer": "ipython3",
   "version": "3.9.7"
  }
 },
 "nbformat": 4,
 "nbformat_minor": 1
}
