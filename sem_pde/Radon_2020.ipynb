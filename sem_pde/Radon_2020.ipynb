{
 "cells": [
  {
   "cell_type": "code",
   "execution_count": null,
   "metadata": {},
   "outputs": [],
   "source": [
    "import numpy as np\n",
    "import matplotlib.pyplot as plt\n",
    "%matplotlib inline"
   ]
  },
  {
   "cell_type": "markdown",
   "metadata": {},
   "source": [
    "## Radon transform\n",
    "Useful links:\n",
    "* https://en.wikipedia.org/wiki/Radon_transform\n",
    "* http://scikit-image.org/docs/dev/auto_examples/transform/plot_radon_transform.html\n",
    "\n",
    "If $f:\\mathbb R^2\\to\\mathbb R$ is compactly supported, the **Radon transform** (RT) $Rf$ is defined on the set $\\Sigma$ of straight lines $L\\subset \\mathbb R$ by $$Rf(L)=\\int_Lf(\\mathbf x)d\\mathbf x.$$\n",
    "\n",
    "The line $L$ can be parameterized by its distance $s$ to the origin and the angle $\\alpha$ that $L$ makes with the $y$ axis. Then $$Rf(\\alpha, s) = \\int_{-\\infty}^\\infty f (x(z),y(z))dz = \\int_{-\\infty}^\\infty f(z\\sin\\alpha+s\\cos\\alpha, -z\\cos\\alpha+s\\sin\\alpha) dz.$$ "
   ]
  },
  {
   "cell_type": "code",
   "execution_count": null,
   "metadata": {},
   "outputs": [],
   "source": [
    "from IPython.display import Image\n",
    "Image('lec5_fig8.png')"
   ]
  },
  {
   "cell_type": "markdown",
   "metadata": {},
   "source": [
    "Here, $s$ may be negative. The line $(\\alpha, s)$ is identical to the line $(\\alpha+\\pi, -s)$.\n",
    "\n",
    "### Examples: Shepp-Logan phantom, rectangle, and Lena"
   ]
  },
  {
   "cell_type": "code",
   "execution_count": null,
   "metadata": {},
   "outputs": [],
   "source": [
    "from skimage.io import imread\n",
    "from skimage.transform import resize\n",
    "\n",
    "N = 1024\n",
    "\n",
    "plt.figure(figsize=(15,10))\n",
    "\n",
    "ImOrigL = []\n",
    "\n",
    "for k in range(3):\n",
    "    plt.subplot(1,3,k+1)\n",
    "    if k == 0:\n",
    "        ImOrigL.append(imread('Shepp_logan.png', as_gray=True)/255.) # rescale to the interval [0,1]  \n",
    "    elif k == 1:\n",
    "        ImOrigL.append(np.zeros((N,N)))\n",
    "        ImOrigL[-1][300:500,300:400] = 1\n",
    "    else:\n",
    "        ImOrigL.append(np.zeros((N,N)))\n",
    "        s = 800\n",
    "        im = resize(imread('lena.png', as_gray=True)/255., (s,s)) # resize to s x s\n",
    "        \n",
    "        ImOrigL[-1][(N-s)//2:(N-s)//2+s, (N-s)//2:(N-s)//2+s] = im\n",
    "        print(ImOrigL[-1].shape)\n",
    "    # assert ImOrigL[-1].shape == (N,N)\n",
    "    plt.imshow(ImOrigL[-1], cmap=plt.cm.Greys_r)\n",
    "    \n",
    "plt.show()"
   ]
  },
  {
   "cell_type": "markdown",
   "metadata": {},
   "source": [
    "We implement RT by first rotating the image, and then summing the values along the vertical axis.\n",
    "\n",
    "To rotate the image, we use a standard `scikit-image` function. "
   ]
  },
  {
   "cell_type": "code",
   "execution_count": null,
   "metadata": {},
   "outputs": [],
   "source": [
    "from skimage.transform import rotate\n",
    "\n",
    "plt.figure(figsize=(15,10))\n",
    "\n",
    "for k in range(3):\n",
    "    plt.subplot(1,3,k+1)\n",
    "    f_rot = rotate(ImOrigL[k], -30)\n",
    "    plt.imshow(f_rot, cmap=plt.cm.Greys_r)\n",
    "\n",
    "plt.show()"
   ]
  },
  {
   "cell_type": "markdown",
   "metadata": {},
   "source": [
    "We compute RT on the rectangle $(s,\\alpha)\\in\\big[-\\frac{N}{2},\\frac{N}{2}\\big]\\times[0^\\circ,180^\\circ]$"
   ]
  },
  {
   "cell_type": "code",
   "execution_count": null,
   "metadata": {},
   "outputs": [],
   "source": [
    "def radon(f, Nangles=100): # Nangles: the angle discretization parameter\n",
    "    angles = np.linspace(0, 180, Nangles, endpoint=False)\n",
    "    #assert f.shape[0] == f.shape[1] and f.shape[0] == N\n",
    "    Rf = np.zeros((N, len(angles)))\n",
    "    for n, alpha in enumerate(angles):\n",
    "        f1 = rotate(f, -alpha)\n",
    "        Rf[:,n] = np.sum(f1, axis=0)\n",
    "    return Rf"
   ]
  },
  {
   "cell_type": "markdown",
   "metadata": {},
   "source": [
    "The RT of an image is called *the sinogram*."
   ]
  },
  {
   "cell_type": "code",
   "execution_count": null,
   "metadata": {},
   "outputs": [],
   "source": [
    "plt.figure(figsize=(15,5))\n",
    "\n",
    "ImRadonL = []\n",
    "for k in range(3):\n",
    "    print(k)\n",
    "    plt.subplot(1,3,k+1)\n",
    "    Rf = radon(ImOrigL[k])\n",
    "    ImRadonL.append(Rf)\n",
    "    plt.imshow(Rf, cmap=plt.cm.Greys_r, aspect='auto', extent=[0,180,-N/2,N/2])\n",
    "    plt.xlabel('$\\\\alpha$ [deg]')\n",
    "    plt.ylabel('s')\n",
    "\n",
    "plt.show()"
   ]
  },
  {
   "cell_type": "markdown",
   "metadata": {},
   "source": [
    "## Fourier slice theorem\n",
    "\n",
    "Having the Radon-transformed function (the sinogram), can we reconstruct the original function?\n",
    "\n",
    "Yes, we can, for example using the relation between Radon and Fourier transforms. \n",
    "\n",
    "**Theorem.** Write $Rf(\\alpha, s)\\equiv R_\\alpha f(s)$ (i.e., as an $\\alpha$-family of $s$-transforms). Then, for each fixed $\\alpha$, \n",
    "\n",
    "$$\\widehat{R_\\alpha f}(\\sigma)=\\widehat{f}(\\sigma \\mathbf{n}(\\alpha)),$$\n",
    "\n",
    "where $\\mathbf{n}(\\alpha) = (\\cos\\alpha, \\sin\\alpha)$. Here, $\\widehat{R_\\alpha f}$ denotes the 1D FT of $R_\\alpha f$ w.r.t. $s,$ while $\\widehat{f}$ denotes the 2D FT of $f$. \n",
    "\n",
    "**Proof.**\n",
    "Using the substitution $x=z\\sin\\alpha+s\\cos\\alpha, y=-z\\cos\\alpha+s\\sin\\alpha$:\n",
    "\n",
    "$$\\begin{align*}\n",
    "\\widehat{f}(\\sigma \\mathbf{n}(\\alpha))\n",
    "& =\\int_{-\\infty}^\\infty\\int_{-\\infty}^\\infty f(x,y)e^{-i\\sigma (x\\cos\\alpha+y\\sin\\alpha)}dxdy\\\\\n",
    "& =\\int_{-\\infty}^\\infty\\int_{-\\infty}^\\infty f(z\\sin\\alpha+s\\cos\\alpha, -z\\cos\\alpha+s\\sin\\alpha)e^{-i\\sigma s}dzds\\\\\n",
    "& = \\int_{-\\infty}^\\infty R_\\alpha f(\\sigma)e^{-i\\sigma s}ds\\\\\n",
    "& = \\widehat{R_\\alpha f}(\\sigma) \n",
    "\\end{align*}$$ $\\square$\n",
    "\n",
    "This theorem implies that if we know $Rf$ then we can, in principle, recover $f$ as follows. First, we reconstruct $\\widehat f$ on each line $\\{\\sigma \\mathbf{n}(\\alpha)\\}_{\\sigma\\in\\mathbb R}$ from $\\widehat{R_\\alpha f}$ using the inverse 1D FT; by considering all such lines we find $\\widehat f$ everywhere on $\\mathbb R^2$. Then we can recover $f$ from $\\widehat f$ using the inverse 2D FT.\n",
    "\n",
    "However, more convenient ways to reconstruct the original image exist."
   ]
  },
  {
   "cell_type": "markdown",
   "metadata": {},
   "source": [
    "## Dual Radon transform\n",
    "The dual RT $R^*$ transforms a function $g:\\Sigma\\to\\mathbb R$ to a function on $\\mathbb R^2$: \n",
    "\n",
    "$$R^*g(\\mathbf x)=\\int_{L:\\mathbf x\\in L}g(L)dL=\\frac{1}{\\pi}\\int_{0}^{\\pi}g(L_{\\mathbf x,\\alpha})d\\alpha,$$\n",
    "\n",
    "where $L_{\\mathbf x,\\alpha}$ is the line going through $\\mathbf x$ and making the angle $\\alpha$ with the $y$ axis. \n",
    "\n",
    "Why do we call $R^*$ *dual*? Let $f:\\mathbb R^2\\to \\mathbb R$ and $g:\\Sigma\\to \\mathbb R$.\n",
    "Then \n",
    "\n",
    "$$\\begin{align*}\n",
    "\\langle f,R^* g\\rangle_{L^2(\\mathbb R^2)}\n",
    "&=\\int_{\\mathbb R^2} f(\\mathbf x) (R^*g)(\\mathbf x)d^2\\mathbf x\\\\\n",
    "&=\\frac{1}{\\pi}\\int_{\\mathbb R^2}\\int_0^{\\pi} f(\\mathbf x) g(L_{\\mathbf x,\\alpha})d^2\\mathbf xd\\alpha\\\\\n",
    "&=\\frac{1}{\\pi}\\int_{\\mathbb R}\\int_{\\mathbb R}\\int_0^{\\pi} f(z\\sin\\alpha+s\\cos\\alpha, -z\\cos\\alpha+s\\sin\\alpha) g(s,\\alpha)dsdzd\\alpha\\\\\n",
    "&=\\frac{1}{\\pi}\\int_{\\mathbb R}\\int_0^{\\pi} (Rf)(s,\\alpha) g(s,\\alpha)dsd\\alpha\\\\\n",
    "&=\\langle Rf, g\\rangle_{L^2(\\Sigma)},\n",
    "\\end{align*}$$\n",
    "\n",
    "where we substituted $\\mathbf x=(z\\sin\\alpha+s\\cos\\alpha, -z\\cos\\alpha+s\\sin\\alpha)$ and defined the scalar product in $L^2(\\Sigma)$ by \n",
    "\n",
    "$$\\langle g_1, g_2\\rangle_{L^2(\\Sigma)}=\\frac{1}{\\pi}\\int_{\\mathbb R}\\int_0^{\\pi} g_1(s,\\alpha) g_2(s,\\alpha)dsd\\alpha.$$"
   ]
  },
  {
   "cell_type": "code",
   "execution_count": null,
   "metadata": {},
   "outputs": [],
   "source": [
    "def radon_dual(Rf):\n",
    "    assert Rf.shape[0] == N\n",
    "    x = np.arange(N)\n",
    "    X, Y = np.meshgrid(x-N/2, -(x-N/2))\n",
    "    RdRf = np.zeros((N,N))\n",
    "    angles = np.linspace(0, np.pi, Rf.shape[1], endpoint=False)\n",
    "    for n,alpha in enumerate(angles):\n",
    "        S = X*np.cos(alpha)+Y*np.sin(alpha)\n",
    "        S = S.astype(int)\n",
    "        S = np.clip(S+N//2, 0, N-1)\n",
    "        RdRf += Rf[S,n]    \n",
    "    RdRf /= len(angles)\n",
    "    return RdRf"
   ]
  },
  {
   "cell_type": "markdown",
   "metadata": {},
   "source": [
    "## Approximate (blurred) reconstruction using dual RT (backprojection)\n",
    "If we apply dual RT to the RT of an image, then we get a **blurred** version of the original image:\n",
    "\n",
    "$$\\begin{align*}\n",
    "R^*Rf(x,y)&=\\frac{1}{\\pi}\\int_{0}^{\\pi}\\int_{-\\infty}^\\infty  f(x+z\\sin\\alpha, y-z\\cos\\alpha) d\\alpha dz \\\\\n",
    "& = \\frac{1}{\\pi}\\int_{0}^{2\\pi}\\int_{0}^\\infty  f(x+r\\sin\\alpha, y-r\\cos\\alpha) d\\alpha dr\\\\\n",
    "& = \\frac{1}{\\pi}\\int_{0}^{2\\pi}\\int_{0}^\\infty  f(x+r\\sin\\alpha, y-r\\cos\\alpha)\\frac{1}{r} rd\\alpha dr\\\\\n",
    "& = \\frac{1}{\\pi}\\int_{-\\infty}^{\\infty}\\int_{-\\infty}^{\\infty}  f(x-x_1, y-y_1)\\frac{1}{\\sqrt{x_1^2+y_1^2}} dx_1dy_1\\\\\n",
    "& = (f*g)(x,y),\n",
    "\\end{align*}$$\n",
    "\n",
    "where $g(x,y)=\\frac{1}{\\pi\\sqrt{x^2+y^2}}.$"
   ]
  },
  {
   "cell_type": "code",
   "execution_count": null,
   "metadata": {},
   "outputs": [],
   "source": [
    "plt.figure(figsize=(15,10))\n",
    "\n",
    "ImRdRL = []\n",
    "for k in range(3):\n",
    "    plt.subplot(1,3,k+1)\n",
    "    RdRf = radon_dual(ImRadonL[k])\n",
    "    ImRdRL.append(RdRf)\n",
    "    plt.imshow(RdRf, cmap=plt.cm.Greys_r)\n",
    "\n",
    "plt.show()"
   ]
  },
  {
   "cell_type": "markdown",
   "metadata": {},
   "source": [
    "## Hilbert transform\n",
    "Given $f:\\mathbb R\\to\\mathbb R$, define its Hilbert Transform (HT) $Hf:\\mathbb R\\to\\mathbb R$ by:\n",
    "\n",
    "$$Hf(t)=\\frac{1}{\\pi}\\mathrm{p.v.}\\int_{-\\infty}^\\infty \\frac{f(\\tau)}{t-\\tau}d\\tau=(f*h)(t),$$\n",
    "\n",
    "where $h(t)=\\frac{1}{\\pi t}.$\n",
    "\n",
    "**Exercise.** $\\widehat{Hf}(p)=\\widehat{f}(p)\\cdot i\\operatorname{sign}(p).$"
   ]
  },
  {
   "cell_type": "markdown",
   "metadata": {},
   "source": [
    "## Exact reconstruction using Hilbert transform (filtered backprojection)\n",
    "A reconstruction without blurring can be performed using HT.\n",
    "\n",
    "Given a function $g:\\Sigma\\to\\mathbb R$, i.e., $g(s,\\alpha)$, let $H_s$ denote HT with respect to the variable $s$.\n",
    "\n",
    "**Theorem.** $$\\frac{1}{2}R^*H_s\\frac{d}{ds}Rf=f.$$\n",
    "\n",
    "**Proof.** It suffices to check that for any sufficiently good $f,g:\\mathbb R^2\\to\\mathbb R$ we have \n",
    "\n",
    "$$\\Big\\langle \\frac{1}{2}R^*H_s\\frac{d}{ds}Rf,g\\Big\\rangle_{L^2(\\mathbb R^2)}=\\langle f,g\\rangle_{L^2(\\mathbb R^2)}.$$\n",
    "\n",
    "This can be proved as follows:\n",
    "\n",
    "$$\\begin{align*}\n",
    "\\Big\\langle \\frac{1}{2}R^*H_s\\frac{d}{ds}Rf,g\\Big\\rangle_{L^2(\\mathbb R^2)}\n",
    "&=\\Big\\langle \\frac{1}{2}H_s\\frac{d}{ds}Rf,Rg\\Big\\rangle_{L^2(\\Sigma)}\\\\ \n",
    "&=\\frac{1}{2\\pi}\\int_{0}^\\pi\\int_{\\mathbb R} \\big(H_s\\frac{d}{ds}Rf\\big)(s) \\cdot Rg(s)d\\alpha ds\\\\\n",
    "&=\\frac{1}{4\\pi^2}\\int_{0}^\\pi\\int_{\\mathbb R} \\widehat{\\big(H_s\\frac{d}{ds}R_\\alpha f\\big)}(\\sigma) \\cdot \\overline{\\widehat{R_\\alpha g}(\\sigma)}d\\alpha d\\sigma\\\\\n",
    "&=\\frac{1}{4\\pi^2}\\int_{0}^\\pi\\int_{\\mathbb R} |\\sigma|\\widehat{R_\\alpha f}(\\sigma) \\cdot \\overline{\\widehat{R_\\alpha g}(\\sigma)}d\\alpha d\\sigma\\\\\n",
    "&=\\frac{1}{4\\pi^2}\\int_{0}^\\pi\\int_{\\mathbb R} \\widehat{f}(\\sigma \\mathbf{n}(\\alpha)) \\cdot \\overline{\\widehat{g}(\\sigma \\mathbf{n}(\\alpha))}|\\sigma|d\\alpha d\\sigma\\\\\n",
    "&=\\frac{1}{4\\pi^2}\\int_{\\mathbb R}\\int_{\\mathbb R} \\widehat{f}(p,q) \\cdot \\overline{\\widehat{g}(p,q)}dpdq\\\\\n",
    "&=\\int_{\\mathbb R}\\int_{\\mathbb R} f(x,y) \\overline{g(x,y)}dxdy\\\\\n",
    "&=\\langle f,g\\rangle_{L^2(\\mathbb R^2)}\n",
    ",\\end{align*}$$\n",
    "\n",
    "where we used the duality relation, the Fourier slice theorem, the property $\\widehat{Hf}(p)=\\widehat{f}(p)\\cdot i\\operatorname{sign}(p),$ and standard properties of FT. \n",
    "\n",
    "$\\square$\n",
    "\n",
    "Thus, the inverse Randon transform can be written as $$R^{-1}=\\frac{1}{2}R^*H_s\\frac{d}{ds}.$$ "
   ]
  },
  {
   "cell_type": "code",
   "execution_count": null,
   "metadata": {},
   "outputs": [],
   "source": [
    "def ds(Rf):\n",
    "    dRf = np.zeros_like(Rf)\n",
    "    dRf[:-1] = Rf[1:]-Rf[:-1]\n",
    "    dRf[-1] = Rf[-1]-Rf[-2]\n",
    "    return dRf\n",
    "\n",
    "def hilbert_s(Rf):\n",
    "    assert Rf.shape[0] == N\n",
    "    K = np.zeros((N-1,))\n",
    "    K[:N//2-1] = -1./np.arange(N/2-1,0,-1)\n",
    "    K[N//2:] = 1./np.arange(1,N/2)  \n",
    "    K /= np.pi\n",
    "    hRf = np.zeros_like(Rf)\n",
    "    for n in range(Rf.shape[1]):\n",
    "        hRf[:,n] = np.convolve(Rf[:,n], K, 'same')        \n",
    "    return hRf\n",
    "\n",
    "def radon_inv(Rf):\n",
    "    return radon_dual(hilbert_s(ds(Rf)))/2."
   ]
  },
  {
   "cell_type": "markdown",
   "metadata": {},
   "source": [
    "Now we can reconstruct the original images without blurring: "
   ]
  },
  {
   "cell_type": "code",
   "execution_count": null,
   "metadata": {},
   "outputs": [],
   "source": [
    "print ('Reconstructed:')\n",
    "plt.figure(figsize=(15,10))\n",
    "ImReconstrL = []\n",
    "for k in range(3):\n",
    "    plt.subplot(1,3,k+1)\n",
    "    f_rec = np.clip(radon_inv(ImRadonL[k]), 0, 1) # clip the values to the interval [0,1]\n",
    "    ImReconstrL.append(f_rec)\n",
    "    plt.imshow(f_rec, cmap=plt.cm.Greys_r)\n",
    "plt.show()\n",
    "\n",
    "print ('Original:')\n",
    "plt.figure(figsize=(15,10))\n",
    "for k in range(3):\n",
    "    plt.subplot(1,3,k+1)\n",
    "    plt.imshow(ImOrigL[k], cmap=plt.cm.Greys_r)\n",
    "plt.show()"
   ]
  },
  {
   "cell_type": "markdown",
   "metadata": {},
   "source": [
    "Compute the mean reconstruction error and compare the cumulative distribution functions for values in the original and reconstructed images:"
   ]
  },
  {
   "cell_type": "code",
   "execution_count": null,
   "metadata": {},
   "outputs": [],
   "source": [
    "perc = np.arange(101)\n",
    "\n",
    "plt.figure(figsize=(15,3))\n",
    "for k in range(3):\n",
    "    print ('Image %d mean reconstruction error: %f' %(k, np.mean(np.abs(ImReconstrL[k]-ImOrigL[k]))))\n",
    "    plt.subplot(1,3,k+1)\n",
    "    plt.plot(np.percentile(ImOrigL[k], perc), perc, label='original')\n",
    "    plt.plot(np.percentile(ImReconstrL[k], perc), perc, label='reconstructed')\n",
    "    plt.xlabel('Share of total area')\n",
    "    plt.ylabel('Brightness threshold')\n",
    "    plt.legend(loc='best')\n",
    "\n",
    "plt.show()"
   ]
  }
 ],
 "metadata": {
  "kernelspec": {
   "display_name": "Python 3",
   "language": "python",
   "name": "python3"
  },
  "language_info": {
   "codemirror_mode": {
    "name": "ipython",
    "version": 3
   },
   "file_extension": ".py",
   "mimetype": "text/x-python",
   "name": "python",
   "nbconvert_exporter": "python",
   "pygments_lexer": "ipython3",
   "version": "3.7.6"
  }
 },
 "nbformat": 4,
 "nbformat_minor": 1
}
