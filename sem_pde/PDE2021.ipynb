{
 "cells": [
  {
   "cell_type": "code",
   "execution_count": null,
   "metadata": {},
   "outputs": [],
   "source": [
    "import numpy as np\n",
    "import matplotlib.pyplot as plt\n",
    "import matplotlib.animation as animation"
   ]
  },
  {
   "cell_type": "markdown",
   "metadata": {},
   "source": [
    "## The heat equation\n",
    "Solve $$\\partial_t u = \\frac{a}{2}\\Delta u$$ \n",
    "\n",
    "for a function $u = u(\\mathbf{x}, t)$, where $\\mathbf{x}=(x_1, \\ldots, x_d)$, $\\Delta \\equiv \\sum_{k=1}^d \\partial^2_{x_k x_k}$, and $a>0$.\n",
    "\n",
    "### Standard boundary/initial condition problems\n",
    "\n",
    "Boundary Value Problem: \n",
    "* given $u|_{\\mathbf{x}\\in \\Omega, t=0}$ and $u|_{\\mathbf{x}\\in \\partial\\Omega, t>0}$\n",
    "* solve for $u|_{\\mathbf{x}\\in \\Omega, t>0}.$\n",
    "\n",
    "Initial Value Problem in $\\mathbb{R}^d\\times[0,+\\infty)$:\n",
    "* given a decaying $u(\\mathbf{x},t)|_{\\mathbf{x}\\in \\mathbb{R}^d, t=0}$ or $u(\\mathbf{x},t)|_{\\mathbf{x}\\in \\mathbb{R}^d, t=0}$\n",
    "* solve for $u|_{\\mathbf{x}\\in \\mathbb{R}^d, t>0}.$\n",
    "\n",
    "Initial Value Problem in $[0,1]^d\\times[0,+\\infty)$ with periodic b.c.:\n",
    "* given a $u(\\mathbf{x},t)|_{\\mathbf{x}\\in [0,1]^d, t=0}$ \n",
    "* solve for $u|_{\\mathbf{x}\\in [0,1]^d, t>0}$ assuming periodic b.c. (i.e. on torus $\\mathbb T=\\mathbb S^d$, where $\\mathbb S=[0,1]/\\{0\\equiv 1\\}$).\n",
    "\n",
    "### Theoretical solution of IVP in $\\mathbb{R}^d$\n",
    "$$u(\\mathbf{x},t)=u(\\cdot,t=0)*\\phi_{at}=\\int_{\\mathbb R^d} u(\\mathbf y,t=0)\\phi_{at}(\\mathbf{x}-\\mathbf{y})d\\mathbf{y},$$\n",
    "where\n",
    "$$\\phi_{at}(\\mathbf{x}) = \\frac{1}{(2\\pi at)^{d/2}}e^{-\\frac{|\\mathbf{x}|^2}{2at}}$$\n",
    "\n",
    "**Exercise:** Notable properties of the solution of heat equation:\n",
    "* $u\\in C^\\infty(\\mathbb R^d\\times (0,+\\infty))$ (the solution is infinitely smooth at $t>0$ even if the initial value was not smooth);\n",
    "* $\\|u\\|_\\infty\\le \\|u(\\cdot,t=0)\\|_\\infty$ (solution preserves the $L_\\infty$-norm); \n",
    "* $\\int_{\\mathbb R^d} u(\\mathbf x, t) d\\mathbf x = \\int_{\\mathbb R^d} u(\\mathbf x, t=0) d\\mathbf x$ for all $t$ (\"heat conservation\"); \n",
    "* $\\min_{\\mathbf x}u(\\mathbf x, t)$ is a monotone non-decreasing function of $t$; \n",
    "* $\\max_{\\mathbf x}u(\\mathbf x, t)$ is a monotone non-increasing function of $t$ \n",
    "\n",
    "### Solving heat eq. on torus numerically\n",
    "\n",
    "Define some discretization and initial conditions."
   ]
  },
  {
   "cell_type": "code",
   "execution_count": null,
   "metadata": {},
   "outputs": [],
   "source": [
    "u0 = 2-np.sqrt(np.sum(plt.imread('sk.png')**2, axis=2))\n",
    "N = u0.shape[0]\n",
    "dx = 1./N\n",
    "#u0 = np.exp(-70*(4*(x0-0.3)**2+(x1-0.1)**2))+0.5*np.exp(-20*((x0-0.6)**2+(x1-0.4)**2)) + \n",
    "\n",
    "%matplotlib notebook\n",
    "plt.imshow(u0, cmap='inferno')\n",
    "plt.colorbar()\n",
    "plt.show()"
   ]
  },
  {
   "cell_type": "markdown",
   "metadata": {},
   "source": [
    "### First attempt at solution: forward Euler iterations\n",
    "Let $t_n=n\\Delta t$ and $\\mathbf x_{\\mathbf m}=(m_1\\Delta x, \\ldots, m_d\\Delta x)$, with some $\\Delta t, \\Delta x$. \n",
    "\n",
    "Forward Euler iterations:\n",
    "$$\\tilde u(\\cdot, t_{n+1}) = \\tilde u(\\cdot, t_{n})+  \\frac{a}{2}\\tilde{\\Delta}  u(\\cdot, t_{n})\\Delta t,$$\n",
    "where $$\\tilde{\\Delta}u(\\mathbf x_{\\mathbf m})\\equiv\\frac{1}{(\\Delta x)^2} \\Big(\\sum_{k=1}^d \\big(u(\\mathbf x_{\\mathbf m+\\mathbf e_k})+u(\\mathbf x_{\\mathbf m-\\mathbf e_k})\\big)-2d u(\\mathbf x_{\\mathbf m})\\Big)$$"
   ]
  },
  {
   "cell_type": "code",
   "execution_count": null,
   "metadata": {},
   "outputs": [],
   "source": [
    "\n",
    "\n",
    " \n",
    "\n"
   ]
  },
  {
   "cell_type": "markdown",
   "metadata": {},
   "source": [
    "Plot min/max/mean of solution as functions of $t$:"
   ]
  },
  {
   "cell_type": "code",
   "execution_count": null,
   "metadata": {},
   "outputs": [],
   "source": []
  },
  {
   "cell_type": "markdown",
   "metadata": {},
   "source": [
    "Validate expected properties of the solution:"
   ]
  },
  {
   "cell_type": "code",
   "execution_count": null,
   "metadata": {},
   "outputs": [],
   "source": []
  },
  {
   "cell_type": "markdown",
   "metadata": {},
   "source": [
    "Animation:"
   ]
  },
  {
   "cell_type": "code",
   "execution_count": null,
   "metadata": {},
   "outputs": [],
   "source": [
    "def animateSolution(uHistory, dt, skip):\n",
    "    tHistory = dt*skip*np.arange(len(uHistory))\n",
    "    fig = plt.figure()\n",
    "    im = plt.imshow(uHistory[0], vmin=0, vmax=1, cmap='inferno' #'Greys_r'\n",
    "                    , animated=True)\n",
    "    plt.colorbar()\n",
    "    title = plt.title('')\n",
    "\n",
    "    def animate(i): \n",
    "        im.set_array(uHistory[i]) \n",
    "        title.set_text(\"t = %2.5f\" %(tHistory[i]))\n",
    "\n",
    "    ani = animation.FuncAnimation(fig, animate, len(uHistory))\n",
    "    plt.show()\n",
    "    return ani\n",
    "\n",
    "%matplotlib auto\n",
    "ani = animateSolution(uHistory, dt, skip)"
   ]
  },
  {
   "cell_type": "markdown",
   "metadata": {},
   "source": [
    "### Why does solution blow up unless $dt$ is very small?\n",
    "\n",
    "Spectral analysis: consider Fourier expansion\n",
    "$$u(\\mathbf x_{\\mathbf m}) = \\frac{1}{N^d} \\sum_{\\mathbf p} \\check u_{\\mathbf p} e^{\\frac{2\\pi i \\mathbf p\\cdot \\mathbf m}{N}},$$\n",
    "where $\\mathbf p = (p_1, \\ldots, p_d)\\in \\mathbb Z_N^d.$\n",
    "\n",
    "**Exercise:** The function $e^{\\frac{2\\pi i \\mathbf p\\cdot \\mathbf m}{N}}$ is an eigenvector of the Laplacian $\\tilde \\Delta$ with eigenvalue $c_{\\mathbf p} = \\frac{2}{(\\Delta x)^2}\\sum_{k=1}^d \\big(\\cos \\frac{2\\pi p_k}{N}-1\\big) \\le 0.$\n",
    "\n",
    "The Euler evolution of $u$ decouples into independent evolutions of coefficients $\\check u_{\\mathbf p}$: \n",
    "$$\\check u_{\\mathbf p}(t_{n+1}) = \\check u_{\\mathbf p}(t_{n})+\\frac{a\\Delta t}{2}c_{\\mathbf p}\\check u_{\\mathbf p}(t_{n})$$\n",
    "that are supposed to solve the linear first order ODE\n",
    "$$\\frac{d}{dt}\\check u_{\\mathbf p}(t) = \\frac{a}{2}c_{\\mathbf p}\\check u_{\\mathbf p}(t).$$\n",
    "\n",
    "The true solution of this equation is $$\\check u_{\\mathbf p}(t) = \\check u_{\\mathbf p}(t=0)e^{(ac_{\\mathbf p}t)/2}.$$\n",
    "\n",
    "Approximate solution using forward Euler is \n",
    "$$\\tilde{\\check u}_{\\mathbf p}(t_n) = \\check u_{\\mathbf p}(t=0)\\Big(1+\\frac{a \\Delta t c_{\\mathbf p}}{2}\\Big)^n.$$\n",
    "\n",
    "Therefore, for the approximate Euler solution to be close to the true solution we need \n",
    "\n",
    "$$\\Big(1+\\frac{a c_{\\mathbf p}\\Delta t}{2}\\Big)^n\\approx e^{(ac_{\\mathbf p}n\\Delta t)/2}.$$\n",
    "\n",
    "Since $c_{\\mathbf p}\\le 0$, the r.h.s. is nonnegative and non-increasing, but the l.h.s. will not even be bounded unless the stability condition $$\\Big|1+\\frac{a c_{\\mathbf p}\\Delta t}{2}\\Big|\\le 1$$ holds.\n",
    "\n",
    "Since $\\min_{\\mathbf p}c_{\\mathbf p}=-\\frac{4d}{(\\Delta x)^2},$ to avoid blow-up of the Euler solution of heat equation we need $$\\Delta t \\lesssim \\frac{(\\Delta x)^2}{da}.$$"
   ]
  },
  {
   "cell_type": "code",
   "execution_count": null,
   "metadata": {},
   "outputs": [],
   "source": []
  },
  {
   "cell_type": "markdown",
   "metadata": {},
   "source": [
    "**Exercise:** Derive the stability condition for the wave equation $$\\partial^2_{tt} u = a\\Delta u.$$\n",
    "\n",
    "**Exercise:** Implement solution for BVP.\n",
    "\n",
    "### Implicit (backward) Euler method\n",
    "\n",
    "Backward Euler iterations:\n",
    "$$\\tilde u(\\cdot, t_{n+1}) = \\tilde u(\\cdot, t_{n})+  \\frac{a}{2}\\tilde{\\Delta}  u(\\cdot, t_{n+1})\\Delta t.$$\n",
    "\n",
    "* Advantage: always stable (**exercise**).\n",
    "* Drawback: requires us to invert the matrix $1-\\frac{a\\Delta t}{2}\\tilde{\\Delta}$: \n",
    "$$\\tilde u(\\cdot, t_{n+1}) = \\Big(1-\\frac{a\\Delta t}{2}\\tilde{\\Delta}\\Big)^{-1}\\tilde u(\\cdot, t_{n}).$$\n",
    "\n",
    "Approximate inversion can be performed efficiently by an iterative method using sparse structure of $\\tilde{\\Delta}$.\n",
    "\n",
    "In general, to solve $Ax=b$ iteratively, we may write $A=A_1+A_2$, where\n",
    "* $A_1$ is easy to invert (e.g., diagonal or triangular);\n",
    "* $A_2$ is small in some sense w.r.t. $A_1$.\n",
    "\n",
    "Then we write our iterations as \n",
    "\n",
    "$$A_1 x_{n+1}+A_2 x_n = b$$\n",
    "\n",
    "or, equivalently,\n",
    "\n",
    "$$x_{n+1}=A_1^{-1}(b-A_2x_n)=A_1^{-1}b-A_1^{-1}A_2x_n.$$\n",
    "\n",
    "If $A=1-\\frac{a\\Delta t}{2}\\tilde{\\Delta}$, then $\\operatorname{spec}A\\subset\\big[1,1+\\frac{2ad\\Delta t}{(\\Delta x)^2}\\big]$ and it is reasonable to choose $$A_1 = 1+\\frac{ad\\Delta t}{(\\Delta x)^2}$$ so that $$A_2=-\\frac{a\\Delta t}{2}\\Big(\\tilde{\\Delta}+\\frac{2d}{(\\Delta x)^2}\\Big),$$\n",
    "$$A_2 u(\\mathbf x_{\\mathbf m})=-\\frac{a\\Delta t}{2(\\Delta x)^2} \\sum_{k=1}^d \\big(u(\\mathbf x_{\\mathbf m+\\mathbf e_k})+u(\\mathbf x_{\\mathbf m-\\mathbf e_k})\\big).$$\n",
    "\n",
    "**Exercise:** Show that with this choice of $A_1$ the operator $A_1^{-1}A_2$ is contractive and \n",
    "\n",
    "$$\\|A_1^{-1}A_2\\|\\le 1-\\frac{1}{1+\\frac{ad\\Delta t}{(\\Delta x)^2}}$$\n",
    "\n",
    "in the $l_2$ operator norm. Estimate convergence of the iterates to the true solution $\\Big(1-\\frac{a\\Delta t}{2}\\tilde{\\Delta}\\Big)^{-1}\\tilde u(\\cdot, t_{n})$.\n"
   ]
  },
  {
   "cell_type": "code",
   "execution_count": null,
   "metadata": {},
   "outputs": [],
   "source": []
  },
  {
   "cell_type": "markdown",
   "metadata": {},
   "source": [
    "Test of the backward Euler:"
   ]
  },
  {
   "cell_type": "code",
   "execution_count": null,
   "metadata": {},
   "outputs": [],
   "source": []
  },
  {
   "cell_type": "code",
   "execution_count": null,
   "metadata": {
    "scrolled": false
   },
   "outputs": [],
   "source": [
    "%matplotlib auto\n",
    "animateSolution(uHistory, dt, skip)"
   ]
  },
  {
   "cell_type": "code",
   "execution_count": null,
   "metadata": {},
   "outputs": [],
   "source": []
  },
  {
   "cell_type": "code",
   "execution_count": null,
   "metadata": {},
   "outputs": [],
   "source": []
  },
  {
   "cell_type": "code",
   "execution_count": null,
   "metadata": {},
   "outputs": [],
   "source": [
    "%matplotlib auto\n",
    "animateSolution(uHistory, dt, skip)"
   ]
  },
  {
   "cell_type": "markdown",
   "metadata": {},
   "source": [
    "**Exercise:** Implement a stable solver for\n",
    "* Wave equation\n",
    "* Burgers equation"
   ]
  },
  {
   "cell_type": "markdown",
   "metadata": {},
   "source": [
    "**Exercise:** How fast is the distributed simulation compared to the non-distributed one? Experiment with different simulation settings and explain the results.\n",
    "\n",
    "**Exercise:** Implement distributed simulation with 4 processes. "
   ]
  }
 ],
 "metadata": {
  "kernelspec": {
   "display_name": "Python 3",
   "language": "python",
   "name": "python3"
  },
  "language_info": {
   "codemirror_mode": {
    "name": "ipython",
    "version": 3
   },
   "file_extension": ".py",
   "mimetype": "text/x-python",
   "name": "python",
   "nbconvert_exporter": "python",
   "pygments_lexer": "ipython3",
   "version": "3.7.6"
  }
 },
 "nbformat": 4,
 "nbformat_minor": 1
}
