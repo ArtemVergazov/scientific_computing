{
 "cells": [
  {
   "cell_type": "code",
   "execution_count": 2,
   "id": "5c888d6c",
   "metadata": {},
   "outputs": [
    {
     "name": "stdout",
     "output_type": "stream",
     "text": [
      "[[[ 89.94639   95.8818   185.19104 ]\n",
      "  [100.64042  105.280495 206.63083 ]]]\n"
     ]
    }
   ],
   "source": [
    "from numpy import array\n",
    "from numpy import hstack\n",
    "from tensorflow.keras.models import Sequential\n",
    "from tensorflow.keras.layers import LSTM\n",
    "from tensorflow.keras.layers import Dense\n",
    "from tensorflow.keras.layers import RepeatVector\n",
    "from tensorflow.keras.layers import TimeDistributed\n",
    " \n",
    "# split a multivariate sequence into samples\n",
    "def split_sequences(sequences, n_steps_in, n_steps_out):\n",
    "  X, y = list(), list()\n",
    "  for i in range(len(sequences)):\n",
    "    # find the end of this pattern\n",
    "    end_ix = i + n_steps_in\n",
    "    out_end_ix = end_ix + n_steps_out\n",
    "    # check if we are beyond the dataset\n",
    "    if out_end_ix > len(sequences):\n",
    "      break\n",
    "    # gather input and output parts of the pattern\n",
    "    seq_x, seq_y = sequences[i:end_ix, :], sequences[end_ix:out_end_ix, :]\n",
    "    X.append(seq_x)\n",
    "    y.append(seq_y)\n",
    "  return array(X), array(y)\n",
    " \n",
    "# define input sequence\n",
    "in_seq1 = array([10, 20, 30, 40, 50, 60, 70, 80, 90])\n",
    "in_seq2 = array([15, 25, 35, 45, 55, 65, 75, 85, 95])\n",
    "out_seq = array([in_seq1[i]+in_seq2[i] for i in range(len(in_seq1))])\n",
    "# convert to [rows, columns] structure\n",
    "in_seq1 = in_seq1.reshape((len(in_seq1), 1))\n",
    "in_seq2 = in_seq2.reshape((len(in_seq2), 1))\n",
    "out_seq = out_seq.reshape((len(out_seq), 1))\n",
    "# horizontally stack columns\n",
    "dataset = hstack((in_seq1, in_seq2, out_seq))\n",
    "# choose a number of time steps\n",
    "n_steps_in, n_steps_out = 3, 2\n",
    "# covert into input/output\n",
    "X, y = split_sequences(dataset, n_steps_in, n_steps_out)\n",
    "# the dataset knows the number of features, e.g. 2\n",
    "n_features = X.shape[2]\n",
    "# define model\n",
    "model = Sequential()\n",
    "model.add(LSTM(200, activation='relu', input_shape=(n_steps_in, n_features)))\n",
    "model.add(RepeatVector(n_steps_out))\n",
    "model.add(LSTM(200, activation='relu', return_sequences=True))\n",
    "model.add(TimeDistributed(Dense(n_features)))\n",
    "model.compile(optimizer='adam', loss='mse')\n",
    "# fit model\n",
    "model.fit(X, y, epochs=300, verbose=0)\n",
    "# demonstrate prediction\n",
    "x_input = array([[60, 65, 125], [70, 75, 145], [80, 85, 165]])\n",
    "x_input = x_input.reshape((1, n_steps_in, n_features))\n",
    "yhat = model.predict(x_input, verbose=0)\n",
    "print(yhat)"
   ]
  },
  {
   "cell_type": "code",
   "execution_count": 14,
   "id": "f938fcc1",
   "metadata": {},
   "outputs": [],
   "source": [
    "# define input sequence\n",
    "in_seq1 = array([10, 20, 30, 40, 50, 60, 70, 80, 90])\n",
    "in_seq2 = array([15, 25, 35, 45, 55, 65, 75, 85, 95])\n",
    "out_seq = array([in_seq1[i]+in_seq2[i] for i in range(len(in_seq1))])\n",
    "out_seq2 = 2*array([in_seq1[i]+in_seq2[i] for i in range(len(in_seq1))])\n",
    "# convert to [rows, columns] structure\n",
    "in_seq1 = in_seq1.reshape((len(in_seq1), 1))\n",
    "in_seq2 = in_seq2.reshape((len(in_seq2), 1))\n",
    "out_seq = out_seq.reshape((len(out_seq), 1))\n",
    "out_seq2 = out_seq2.reshape((len(out_seq), 1))\n",
    "# horizontally stack columns\n",
    "dataset = hstack((in_seq1, in_seq2, out_seq, out_seq2))\n",
    "# choose a number of time steps\n",
    "n_steps_in, n_steps_out = 3, 1\n",
    "# covert into input/output\n",
    "X, y = split_sequences(dataset, n_steps_in, n_steps_out)"
   ]
  },
  {
   "cell_type": "code",
   "execution_count": 15,
   "id": "fae444db",
   "metadata": {},
   "outputs": [
    {
     "data": {
      "text/plain": [
       "array([[ 10,  15,  25,  50],\n",
       "       [ 20,  25,  45,  90],\n",
       "       [ 30,  35,  65, 130],\n",
       "       [ 40,  45,  85, 170],\n",
       "       [ 50,  55, 105, 210],\n",
       "       [ 60,  65, 125, 250],\n",
       "       [ 70,  75, 145, 290],\n",
       "       [ 80,  85, 165, 330],\n",
       "       [ 90,  95, 185, 370]])"
      ]
     },
     "execution_count": 15,
     "metadata": {},
     "output_type": "execute_result"
    }
   ],
   "source": [
    "dataset"
   ]
  },
  {
   "cell_type": "code",
   "execution_count": 16,
   "id": "df09c741",
   "metadata": {},
   "outputs": [
    {
     "data": {
      "text/plain": [
       "array([[[ 10,  15,  25,  50],\n",
       "        [ 20,  25,  45,  90],\n",
       "        [ 30,  35,  65, 130]],\n",
       "\n",
       "       [[ 20,  25,  45,  90],\n",
       "        [ 30,  35,  65, 130],\n",
       "        [ 40,  45,  85, 170]],\n",
       "\n",
       "       [[ 30,  35,  65, 130],\n",
       "        [ 40,  45,  85, 170],\n",
       "        [ 50,  55, 105, 210]],\n",
       "\n",
       "       [[ 40,  45,  85, 170],\n",
       "        [ 50,  55, 105, 210],\n",
       "        [ 60,  65, 125, 250]],\n",
       "\n",
       "       [[ 50,  55, 105, 210],\n",
       "        [ 60,  65, 125, 250],\n",
       "        [ 70,  75, 145, 290]],\n",
       "\n",
       "       [[ 60,  65, 125, 250],\n",
       "        [ 70,  75, 145, 290],\n",
       "        [ 80,  85, 165, 330]]])"
      ]
     },
     "execution_count": 16,
     "metadata": {},
     "output_type": "execute_result"
    }
   ],
   "source": [
    "X"
   ]
  },
  {
   "cell_type": "code",
   "execution_count": null,
   "id": "46a6ce1a",
   "metadata": {},
   "outputs": [],
   "source": []
  },
  {
   "cell_type": "code",
   "execution_count": 17,
   "id": "07a91a3d",
   "metadata": {},
   "outputs": [
    {
     "data": {
      "text/plain": [
       "array([[[ 40,  45,  85, 170]],\n",
       "\n",
       "       [[ 50,  55, 105, 210]],\n",
       "\n",
       "       [[ 60,  65, 125, 250]],\n",
       "\n",
       "       [[ 70,  75, 145, 290]],\n",
       "\n",
       "       [[ 80,  85, 165, 330]],\n",
       "\n",
       "       [[ 90,  95, 185, 370]]])"
      ]
     },
     "execution_count": 17,
     "metadata": {},
     "output_type": "execute_result"
    }
   ],
   "source": [
    "y"
   ]
  },
  {
   "cell_type": "code",
   "execution_count": 19,
   "id": "154e883d",
   "metadata": {},
   "outputs": [],
   "source": [
    "import numpy as np"
   ]
  },
  {
   "cell_type": "code",
   "execution_count": 21,
   "id": "ccc1a3a6",
   "metadata": {},
   "outputs": [
    {
     "data": {
      "text/plain": [
       "array([[0.49388233, 0.5038084 ],\n",
       "       [0.49890658, 0.558236  ],\n",
       "       [0.54292774, 0.51761687],\n",
       "       ...,\n",
       "       [0.5041978 , 0.52948534],\n",
       "       [0.50447017, 0.52981913],\n",
       "       [0.5042349 , 0.52967906]], dtype=float32)"
      ]
     },
     "execution_count": 21,
     "metadata": {},
     "output_type": "execute_result"
    }
   ],
   "source": [
    "np.load(\"D:\\\\DOCS\\\\Git\\\\scientific_computing\\\\final_project\\\\grid_search_resultslook_back_5_activation_relu_learning_rate0.001.npy\")"
   ]
  },
  {
   "cell_type": "code",
   "execution_count": null,
   "id": "0405234c",
   "metadata": {},
   "outputs": [],
   "source": []
  }
 ],
 "metadata": {
  "kernelspec": {
   "display_name": "Python 3 (ipykernel)",
   "language": "python",
   "name": "python3"
  },
  "language_info": {
   "codemirror_mode": {
    "name": "ipython",
    "version": 3
   },
   "file_extension": ".py",
   "mimetype": "text/x-python",
   "name": "python",
   "nbconvert_exporter": "python",
   "pygments_lexer": "ipython3",
   "version": "3.9.7"
  }
 },
 "nbformat": 4,
 "nbformat_minor": 5
}
