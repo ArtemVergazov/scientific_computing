{
 "cells": [
  {
   "cell_type": "markdown",
   "metadata": {
    "id": "5XDBefNIgZE7"
   },
   "source": [
    "## Scientific Computing 2021: Homework Assignment 2 \n",
    "Due Monday October 18, 2021 (23:59)\n",
    "\n",
    "### Problem 1 (2 points)\n",
    "Let $A_q=\\left(\\begin{matrix}1 & q\\\\ 0 & 1\\end{matrix}\\right)$ with $q\\in\\mathbb R$. \n",
    "* For any $q$, find condition number $\\kappa(A_q)$ with respect to the $l^2$-norm.\n",
    "* Give an example of specific values of $q,\\mathbf b, \\Delta\\mathbf b$ such that, when solving $A_q\\mathbf x = \\mathbf b$ and $A_q(\\mathbf x+\\Delta \\mathbf x)=\\mathbf b +\\Delta\\mathbf b$, we get \n",
    "\n",
    "$$\\frac{\\|\\Delta \\mathbf x\\|}{\\|\\mathbf x\\|}\\ge 10^6\\frac{\\|\\Delta\\mathbf b\\|}{\\|\\mathbf b\\|}.$$"
   ]
  },
  {
   "cell_type": "markdown",
   "metadata": {},
   "source": [
    "If $\\|\\cdot\\|$ is the $l^2$-norm and $A_q$ is arbitrary, then $$\\kappa(A_q)=\\sqrt{\\frac{\\lambda_{\\max}(A_q^*A_q)}{\\lambda_{\\min}(A_q^*A_q)}}$$\n",
    "\n",
    "$$A_q^* A_q = \\left(\\begin{matrix}1 & q\\\\ q & 1 + q^2\\end{matrix}\\right)$$\n",
    "\n",
    "Eigenvals:\n",
    "$$\\begin{vmatrix} 1 - \\lambda & q \\\\ q & 1 + q^2 - \\lambda \\end{vmatrix} = \\lambda^2 - \\lambda(q^2 + 2) + 1 = 0$$\n",
    "\n",
    "$$\\lambda_{1, 2} = \\frac{\\pm q\\sqrt{q^2 + 4} + q^2 + 2}{2} \\in \\mathbb R$$\n",
    "\n",
    "$$\\kappa(A_q) = \\sqrt{\\frac{\\lambda_\\max}{\\lambda_\\min}} = \\sqrt{\\frac{|q|\\sqrt{q^2 + 4} + q^2 + 2}{-|q|\\sqrt{q^2 + 4} + q^2 + 2}} = \\frac{|q|\\sqrt{q^2 + 4} + q^2 + 2}{\\sqrt{(q^2 + 2)^2 - q^2(q^2 + 4)}} = \\frac{|q|\\sqrt{q^2 + 4} + q^2 + 2}{2}$$"
   ]
  },
  {
   "cell_type": "markdown",
   "metadata": {},
   "source": [
    "$$\\left(\\begin{matrix}1 & q \\\\ 0 & 1\\end{matrix}\\right) \\left(\\begin{matrix}x_1 \\\\ x_2 \\end{matrix}\\right) = \\left(\\begin{matrix}b_1 \\\\ b_2 \\end{matrix}\\right)$$\n",
    "\n",
    "$$\\left\\{\\begin{eqnarray} x_1 + q\\,x_2 & = & b_1 \\\\ x_2 & = & b_2 \\end{eqnarray}\\right.$$\n",
    "\n",
    "$$\\left\\{\\begin{eqnarray} x_1 & = & b_1 - q\\,b_2 \\\\ x_2 & = & b_2 \\end{eqnarray}\\right.$$"
   ]
  },
  {
   "cell_type": "code",
   "execution_count": 272,
   "metadata": {},
   "outputs": [],
   "source": [
    "import numpy as np"
   ]
  },
  {
   "cell_type": "code",
   "execution_count": 273,
   "metadata": {},
   "outputs": [
    {
     "data": {
      "text/plain": [
       "1000000000002.0"
      ]
     },
     "execution_count": 273,
     "metadata": {},
     "output_type": "execute_result"
    }
   ],
   "source": [
    "# Example.\n",
    "def cond(q):\n",
    "    return (np.abs(q) * np.sqrt(q**2 + 4) + q**2 + 2) / 2\n",
    "\n",
    "\n",
    "cond(1e6)"
   ]
  },
  {
   "cell_type": "code",
   "execution_count": 274,
   "metadata": {},
   "outputs": [],
   "source": [
    "import numpy.linalg as LA\n",
    "\n",
    "\n",
    "def solve(q, b):\n",
    "    A = np.array([[1, q], [0, 1]], dtype=float)\n",
    "    return LA.solve(A, b)"
   ]
  },
  {
   "cell_type": "code",
   "execution_count": 275,
   "metadata": {},
   "outputs": [
    {
     "name": "stdout",
     "output_type": "stream",
     "text": [
      "1.0 99503.71902099892 False 10 [10  0] [100  10]\n",
      "1.0 9999.500037496875 False 100 [10  0] [1000   10]\n",
      "1.0 999.9995000003751 False 1000 [10  0] [10000    10]\n",
      "1.0 99.9999995 False 10000 [10  0] [100000     10]\n",
      "1.0 9.9999999995 False 100000 [10  0] [1000000      10]\n",
      "1.0 0.9999999999995001 True 1000000 [10  0] [10000000       10]\n",
      "1.0 0.09999999999999949 True 10000000 [10  0] [100000000        10]\n",
      "1.0 0.009999999999999998 True 100000000 [10  0] [1000000000         10]\n"
     ]
    }
   ],
   "source": [
    "# Find the values of q, db and b by the selection method\n",
    "# based on the hypothesis that b[0] / b[1] should be proportional to q.\n",
    "someValue = 10\n",
    "db = np.array([10, 0])\n",
    "for q in 10**np.arange(1, 9):\n",
    "    b = np.array([someValue * q, someValue])\n",
    "    x = solve(q, b)\n",
    "    dx = solve(q, b + db) - x\n",
    "    print(\n",
    "        LA.norm(dx) / LA.norm(x), 1e6 * LA.norm(db) / LA.norm(b),\n",
    "        LA.norm(dx) / LA.norm(x) >= 1e6 * LA.norm(db) / LA.norm(b),\n",
    "        q, db, b\n",
    "    )"
   ]
  },
  {
   "cell_type": "markdown",
   "metadata": {},
   "source": [
    "Thus, the values of $q, \\Delta b$ and $b$, at which the inequality is satisfied, are:\n",
    "$$q = 10^6,$$\n",
    "$$\\Delta b = [10, 0],$$\n",
    "$$b = [10^7, 10]$$"
   ]
  },
  {
   "cell_type": "markdown",
   "metadata": {
    "id": "6jKRLB72gZFE"
   },
   "source": [
    "### Problem 2 (2 points)\n",
    "* Write a program to compute an approximate value for the derivative of a function using the finite-difference formula \n",
    "\n",
    "  $$f'(x)\\approx \\frac{f(x+h)-f(x)}{h}.$$\n",
    "\n",
    "  Test your program using the function $\\tan(x)$ at $x=1$. Determine the error by comparing with the value obtained using the analytic derivative. Plot the magnitude of the error as a function of $h$, for $h=10^{-k}, k=0,\\ldots,16$. You should use log scale for $h$ and for the magnitude of the error. What is the minimum value of the error and at which $h$ is it achieved? Explain this result theoretically.\n",
    "* Repeat the exercise using the centered difference approximation\n",
    "\n",
    " $$f'(x)\\approx \\frac{f(x+h)-f(x-h)}{2h}.$$\n",
    "\n",
    " What is now different and why?"
   ]
  },
  {
   "cell_type": "code",
   "execution_count": 142,
   "metadata": {},
   "outputs": [],
   "source": [
    "def forwardDiff(f, x, h):\n",
    "    return (f(x + h) - f(x)) / h\n",
    "\n",
    "\n",
    "def centralDiff(f, x, h):\n",
    "    return (f(x + h) - f(x - h)) / 2 / h\n",
    "\n",
    "\n",
    "def analytic(x):\n",
    "    return np.cos(x)**-2"
   ]
  },
  {
   "cell_type": "code",
   "execution_count": 156,
   "metadata": {},
   "outputs": [],
   "source": [
    "import matplotlib.pyplot as plt"
   ]
  },
  {
   "cell_type": "code",
   "execution_count": 178,
   "metadata": {},
   "outputs": [
    {
     "data": {
      "image/png": "[encoded data removed]",
      "text/plain": [
       "<Figure size 432x288 with 1 Axes>"
      ]
     },
     "metadata": {
      "needs_background": "light"
     },
     "output_type": "display_data"
    }
   ],
   "source": [
    "f = np.tan\n",
    "x = 1.\n",
    "h = 10**(-np.arange(17.))\n",
    "forwardErr = np.abs(forwardDiff(f, x, h) - analytic(x))\n",
    "centralErr = np.abs(centralDiff(f, x, h) - analytic(x))\n",
    "plt.loglog(h, forwardErr, 'o', label='Forward Difference')\n",
    "plt.loglog(h, centralErr, 'o', label='central Difference')\n",
    "plt.xlabel('h')\n",
    "plt.ylabel('error')\n",
    "\n",
    "plt.plot(h, h, label='Slope 1')\n",
    "plt.plot(h, h**2, label='Slope 2')\n",
    "plt.gca().invert_xaxis()\n",
    "plt.legend();"
   ]
  },
  {
   "cell_type": "markdown",
   "metadata": {},
   "source": [
    "Forward difference method has first order of accuracy, decreasing as $O(h)$ until it reaches its minimum at $h \\sim 10^{-8},$ $error \\sim 10^{-9}$. Then the error starts increasing due to rounding errors contribution.\n",
    "Similar result is achieved in case of central difference method but it has second order of accuracy and is decreasing as $O(h^2),$ reaching its minimum at $h \\sim 10^{-7},$ $error \\sim 10^{-10}$."
   ]
  },
  {
   "cell_type": "markdown",
   "metadata": {
    "id": "OlohFH9bgZFG"
   },
   "source": [
    "### Problem 3 (2 points)\n",
    "* Implement regularized regression with an adaptive choice of regularization parameter. Your algorithm must accept the training data (`Xtrain`, `Ytrain`) and the input part of test data (`Xtest`), and output a prediction for test data (`Ypred`). You may use standard linear algebra libraries, but not specialized predictive modeling software (e.g., `scikit-learn`). Your algorithm should choose the regularization parameter by some optimization over a reasonable range of values and may use a sub-division of the training data into a train-in-train and a test-in-train components.\n",
    "* Test your algorithm on real data from UCI repository:\n",
    "  * https://archive.ics.uci.edu/ml/datasets/Relative+location+of+CT+slices+on+axial+axis\n",
    "  * https://archive.ics.uci.edu/ml/datasets/Physicochemical+Properties+of+Protein+Tertiary+Structure\n",
    "  \n",
    "  Use random subsets of 300 rows as training sets, and the remaining rows as the test sets. Use the relative RMS error as the measure of accuracy.\n",
    "  Compare your results with results of some linear models implemented in standard predictive modeling software    (e.g., `Ridge` and `LinearRegression` from `scikit-learn`)."
   ]
  },
  {
   "cell_type": "code",
   "execution_count": 290,
   "metadata": {},
   "outputs": [
    {
     "name": "stdout",
     "output_type": "stream",
     "text": [
      "downloaded OK\n",
      "extracted OK\n"
     ]
    }
   ],
   "source": [
    "from urllib.request import urlretrieve\n",
    "import zipfile\n",
    "\n",
    "url = 'https://archive.ics.uci.edu/ml/machine-learning-databases/00206/slice_localization_data.zip'\n",
    "urlretrieve(url, 'CTslices')\n",
    "# Uncomment for the second dataset.\n",
    "# url = 'https://archive.ics.uci.edu/ml/machine-learning-databases/00265/CASP.csv'\n",
    "# urlretrieve(url, 'CASP.csv')\n",
    "print('downloaded OK')\n",
    "\n",
    "zip_ref = zipfile.ZipFile('CTslices', 'r')\n",
    "zip_ref.extractall('CTslices_dir')\n",
    "zip_ref.close()\n",
    "print('extracted OK')"
   ]
  },
  {
   "cell_type": "code",
   "execution_count": 295,
   "metadata": {},
   "outputs": [
    {
     "name": "stdout",
     "output_type": "stream",
     "text": [
      "Total rows: 53500\n",
      "Total columns: 386\n"
     ]
    }
   ],
   "source": [
    "data = np.loadtxt('CTslices_dir/slice_localization_data.csv', skiprows=1, delimiter=',')\n",
    "# data = np.loadtxt('CASP.csv', skiprows=1, delimiter=',')\n",
    "print('Total rows:', data.shape[0])\n",
    "print('Total columns:', data.shape[1])\n",
    "\n",
    "N = len(data)\n",
    "X = data[:, :-1]  # input values\n",
    "X[:, 0] = 1  # remove the ID column, insert constants instead\n",
    "y = data[:, -1] # output values"
   ]
  },
  {
   "cell_type": "code",
   "execution_count": 310,
   "metadata": {},
   "outputs": [],
   "source": [
    "N_train = 300\n",
    "inds = np.random.permutation(N)\n",
    "\n",
    "train = inds[:N_train]\n",
    "test = inds[N_train:]\n",
    "X_train = X[train]\n",
    "y_train = y[train]\n",
    "X_test = X[test]\n",
    "y_test = y[test]\n",
    "\n",
    "Q = X_train.T @ X_train\n",
    "N_features = X_train.shape[1]"
   ]
  },
  {
   "cell_type": "code",
   "execution_count": 311,
   "metadata": {},
   "outputs": [],
   "source": [
    "def rrmse(y_test, y_pred):\n",
    "    return LA.norm(y_test - y_pred) / LA.norm(y_test - np.mean(y_test))\n",
    "\n",
    "\n",
    "def gridSearch(muRange):\n",
    "    bestErr = 1e6\n",
    "    bestMu = None\n",
    "    errors = np.zeros(len(muRange))\n",
    "    for i in range(len(muRange)):\n",
    "        mu = muRange[i]\n",
    "        coeffs =\\\n",
    "            LA.inv(X_train.T @ X_train + np.diag([mu] * N_features)) @\\\n",
    "            X_train.T @ y_train\n",
    "\n",
    "        y_pred = X_test @ coeffs\n",
    "        errors[i] = rrmse(y_test, y_pred)\n",
    "        if errors[i] < bestErr:\n",
    "            bestErr = errors[i]\n",
    "            bestMu = mu\n",
    "    \n",
    "    return bestMu, bestErr, errors"
   ]
  },
  {
   "cell_type": "code",
   "execution_count": 312,
   "metadata": {},
   "outputs": [],
   "source": [
    "# mu = [1e-8, 1e-7, ... 1, 10].\n",
    "muRange = 10**np.arange(-12., 6.)\n",
    "mu, bestErr, errors = gridSearch(muRange)"
   ]
  },
  {
   "cell_type": "code",
   "execution_count": 313,
   "metadata": {},
   "outputs": [
    {
     "data": {
      "text/plain": [
       "(10.0, 0.46875561955181183)"
      ]
     },
     "execution_count": 313,
     "metadata": {},
     "output_type": "execute_result"
    }
   ],
   "source": [
    "mu, bestErr"
   ]
  },
  {
   "cell_type": "code",
   "execution_count": 314,
   "metadata": {},
   "outputs": [
    {
     "data": {
      "image/png": "[encoded data removed]",
      "text/plain": [
       "<Figure size 432x288 with 1 Axes>"
      ]
     },
     "metadata": {
      "needs_background": "light"
     },
     "output_type": "display_data"
    }
   ],
   "source": [
    "plt.loglog(muRange, errors, 'o', label='Grid search RRMSEs')\n",
    "plt.plot(mu, bestErr, 'go', ms=12, label='Best RRMSE')\n",
    "plt.xlabel('mu')\n",
    "plt.ylabel('RRMSE')\n",
    "plt.legend();"
   ]
  },
  {
   "cell_type": "code",
   "execution_count": 315,
   "metadata": {},
   "outputs": [
    {
     "name": "stdout",
     "output_type": "stream",
     "text": [
      "RRMSE for Ridge model: 0.5720566081306969\n",
      "RRMSE for LR model: 1.3731590120793655\n"
     ]
    }
   ],
   "source": [
    "# Now compare with scikit.\n",
    "from sklearn.linear_model import Ridge\n",
    "from sklearn.linear_model import LinearRegression as LR\n",
    "\n",
    "model = Ridge()\n",
    "model.fit(X_train, y_train)\n",
    "y_pred_ridge = model.predict(X_test)\n",
    "print('RRMSE for Ridge model:', rrmse(y_test, y_pred_ridge))\n",
    "\n",
    "model = LR()\n",
    "model.fit(X_train, y_train)\n",
    "y_pred_lr = model.predict(X_test)\n",
    "print('RRMSE for LR model:', rrmse(y_test, y_pred_lr))"
   ]
  },
  {
   "cell_type": "markdown",
   "metadata": {
    "id": "3l6EgKSAgZFI"
   },
   "source": [
    "### Problem 4 (2 points)\n",
    "Suppose that we use the Leapfrog algorithm with some $\\Delta t$ to simulate the dynamics of the harmonic oscillator (https://en.wikipedia.org/wiki/Harmonic_oscillator) with positive mass $m$ and force constant $k$ (in other words, with the energy function $H=\\frac{m\\dot x^2}{2}+\\frac{kx^2}{2}$). Assuming a perfect implementation of Leapfrog, at which combinations of $\\Delta t, m, k$ will the simulation diverge as $n\\to\\infty$, in the sense that $\\sup_n(\\tilde x_n^2+\\tilde v_{n+1/2}^2)=\\infty$?"
   ]
  },
  {
   "cell_type": "markdown",
   "metadata": {},
   "source": [
    "$$\\frac{d}{dt}{x\\choose v}={v\\choose -\\frac{k}{m}x}$$\n",
    "\n",
    "For $n = 1, 2, ...$\n",
    "$${x_{n + 1} \\choose v_{n + \\frac{3}{2}}} = \\left(\\begin{matrix}1 - \\frac{k}{m} \\Delta t^2 & \\Delta t^2\\\\ -\\frac{k}{m} \\Delta t & 1\\end{matrix}\\right) {x_n \\choose v_{n + \\frac{1}{2}}}$$\n",
    "\n",
    "Let $$A = \\left(\\begin{matrix}1 - \\frac{k}{m} \\Delta t^2 & \\Delta t^2\\\\ -\\frac{k}{m} \\Delta t & 1\\end{matrix}\\right)$$\n",
    "\n",
    "We can notice a recurrent pattern here.\n",
    "$${x_{n + 1} \\choose v_{n + \\frac{3}{2}}} = A {x_n \\choose v_{n + \\frac{1}{2}}} = A\\,A {x_{n - 1} \\choose v_{n - \\frac{1}{2}}} = \\textrm{... so on} = A^{n} {x_{0} \\choose v_{\\frac{1}{2}}}$$"
   ]
  },
  {
   "cell_type": "markdown",
   "metadata": {},
   "source": [
    "We can represent ${x_{0} \\choose v_{\\frac{1}{2}}} = c_1 u_1 + c_2 u_2$, where $u_1$, $u_2$ - eigenvectors of $A$ corresponding to its different eigenvalues.\n",
    "\n",
    "Furthermore:\n",
    "\n",
    "$$A^{n} {x_{0} \\choose v_{\\frac{1}{2}}} = c_1 A^{n} u_1 + c_2 A^{n} u_2 = c_1 \\lambda^{n} u_1 + c_2 \\lambda^{n} u_2$$"
   ]
  },
  {
   "cell_type": "markdown",
   "metadata": {},
   "source": [
    "Since we are interested in the value of $\\sup_n(\\tilde x_n^2+\\tilde v_{n+1/2}^2)$, we can consider the norm $\\|{x_{n + 1} \\choose v_{n + \\frac{3}{2}}}\\|$, which is proportional to the eigenvalues of $A$ ($\\lambda_1$ and $\\lambda_2$) due to the written above. Eigenvalues have the power of $n$ in the expression so if their module is greater than 1, it is already enough for the algorithm to diverge. So let us consider the eigenvalues of $A$."
   ]
  },
  {
   "cell_type": "markdown",
   "metadata": {},
   "source": [
    "$$\\textrm{det}\\left(\\begin{matrix}1 - \\frac{k}{m} \\Delta t^2 - \\lambda & \\Delta t^2\\\\ -\\frac{k}{m} \\Delta t & 1 - \\lambda \\end{matrix}\\right) = (1 - \\frac{k}{m} \\Delta t^2 - \\lambda)(1 - \\lambda) = 0$$\n",
    "\n",
    "$$\\textrm{Let } p = \\frac{k}{m} \\Delta t^2$$\n",
    "\n",
    "$$\\lambda_{1, 2} = \\frac{2 - p \\pm \\sqrt{p(p - 4)}}{2}$$"
   ]
  },
  {
   "cell_type": "markdown",
   "metadata": {},
   "source": [
    "For both possible lambdas it is obvious that if $p > 4$, then $|\\lambda| > 1$. So, the values of $\\Delta t$, $m$ and $k$ must satisfy the condition $\\frac{k}{m} \\Delta t^2 \\ge 4$ for the algorithm to diverge."
   ]
  },
  {
   "cell_type": "markdown",
   "metadata": {
    "id": "0JlnITqYgZFJ"
   },
   "source": [
    "### Problem 5 (2 points)\n",
    "Consider the velocity Verlet method for solving the equation $\\frac{d}{dt}{x\\choose v}={v\\choose f_1(x)}$: \n",
    "\n",
    "\\begin{align}\n",
    "\\tilde v_{n+1/2} &= \\tilde v_{n}+\\frac{1}{2}f_1(\\tilde x_n)\\Delta t\\\\\n",
    "\\tilde x_{n+1} &= \\tilde x_{n}+\\tilde v_{n+1/2}\\Delta t\\\\\n",
    "\\tilde v_{n+1} &= \\tilde v_{n+1/2}+\\frac{1}{2}f_1(\\tilde x_{n+1})\\Delta t\n",
    "\\end{align}\n",
    "Find its global convergence order and verify it experimentally."
   ]
  },
  {
   "cell_type": "markdown",
   "metadata": {},
   "source": [
    "To obtain the local error on the next step, let us compute the Taylor expansions at time $t$ of the position $x(t\\pm \\Delta t)$ in different time directions:\n",
    "\n",
    "$$x(t + \\Delta t) = x(t) + v(t)\\Delta t + \\frac{a(t)\\Delta t^2}{2} + \\frac{b(t)\\Delta t^3}{6} + O(\\Delta t^4)$$\n",
    "\n",
    "$$x(t - \\Delta t) = x(t) - v(t)\\Delta t + \\frac{a(t)\\Delta t^2}{2} - \\frac{b(t)\\Delta t^3}{6} + O(\\Delta t^4),$$\n",
    "\n",
    "where $x$ is the position, $v$ - the velocity, $a$ - the acceleration and $b$ - the jerk."
   ]
  },
  {
   "cell_type": "markdown",
   "metadata": {},
   "source": [
    "Adding this two expansions gives:\n",
    "\n",
    "$$x(t + \\Delta t) = 2x(t) - x(t - \\Delta t) + a(t)\\Delta t^2 + O(\\Delta t^4)$$"
   ]
  },
  {
   "cell_type": "markdown",
   "metadata": {},
   "source": [
    "Hence, the local error in position is $O(\\Delta t^4)$. To obtain the global error:\n",
    "\n",
    "$$\\textrm{error}(x(t_0 + \\Delta t)) = O(\\Delta t^4)$$\n",
    "$$x(t_0 + 2\\Delta t) = 2x(t_0 + \\Delta t) - x(t_0) + a(t_0 + \\Delta t)\\Delta t^2 + O(\\Delta t^4)$$\n",
    "$$\\textrm{error}(x(t_0 + 2\\Delta t)) = 2\\textrm{error}(x(t_0 + \\Delta t)) + O(\\Delta t^4) = 3\\,O(\\Delta t^4)$$\n",
    "\n",
    "Similarly,\n",
    "\n",
    "$$\\textrm{error}(x(t_0 + 3\\Delta t)) = 6\\,O(\\Delta t^4)$$\n",
    "$$\\textrm{error}(x(t_0 + 4\\Delta t)) = 10\\,O(\\Delta t^4)$$\n",
    "$$\\textrm{error}(x(t_0 + 5\\Delta t)) = 15\\,O(\\Delta t^4)$$"
   ]
  },
  {
   "cell_type": "markdown",
   "metadata": {},
   "source": [
    "It can be shown by induction that:\n",
    "\n",
    "$$\\textrm{error}(x(t_0 + n\\Delta t)) = \\frac{n(n + 1)}{2}\\,O(\\Delta t^4)$$\n",
    "\n",
    "If we consider the global error in $x$ between $x(t_0)$ and $x(t + T)$, where $T = n\\Delta t$:\n",
    "\n",
    "$$\\textrm{error}(x(t_0 + T)) = \\left(\\frac{T^2}{2\\Delta t^2} + \\frac{T}{2\\Delta t}\\right)O(\\Delta t^4) = O(\\Delta t^2)$$"
   ]
  },
  {
   "cell_type": "markdown",
   "metadata": {},
   "source": [
    "Therefore, the global error in position has $2^{\\textrm{nd}}$ order. The error in the velocity $v$ has $2^{\\textrm{nd}}$ order too because it is determined from the positions $x$. Let us prove it experimentally."
   ]
  },
  {
   "cell_type": "code",
   "execution_count": 316,
   "metadata": {},
   "outputs": [],
   "source": [
    "def f1(x):\n",
    "    return -np.sin(x)\n",
    "\n",
    "def Verlet(f1, x0, v0, dt=1e-3, N=10000):\n",
    "    xHistory = [x0] # at integer times\n",
    "    vHistory = [v0] # at integer times\n",
    "    vHistory_ = []  # at half-integer times\n",
    "    tHistory = [0]\n",
    "    for n in range(N):\n",
    "        vHistory_.append(vHistory[-1]+0.5*dt*f1(xHistory[-1]))\n",
    "        xHistory.append(xHistory[-1]+dt*vHistory_[-1])\n",
    "        vHistory.append(vHistory_[-1]+0.5*dt*f1(xHistory[-1]))\n",
    "        tHistory.append(dt*(n+1))\n",
    "    # define vHistory for integer times\n",
    "    #vHistory = [(vHistory_[n]+vHistory_[n+1])/2. for n in range(len(vHistory_)-1)]\n",
    "    assert len(xHistory) == len(vHistory)\n",
    "    return xHistory, vHistory, tHistory"
   ]
  },
  {
   "cell_type": "code",
   "execution_count": 319,
   "metadata": {},
   "outputs": [
    {
     "data": {
      "image/png": "[encoded data removed]",
      "text/plain": [
       "<Figure size 432x288 with 1 Axes>"
      ]
     },
     "metadata": {
      "needs_background": "light"
     },
     "output_type": "display_data"
    }
   ],
   "source": [
    "def E(X):\n",
    "    return X[1]*X[1]/2-np.cos(X[0])\n",
    "\n",
    "nHistory = []\n",
    "errorE = []\n",
    "for m in range(1,6):\n",
    "    dt = 10**(-m)\n",
    "    N = int(10. / dt)\n",
    "    xHistory, vHistory, tHistory = Verlet(f1, 1., 1., dt=dt, N=N) \n",
    "    Ehistory = [E([xHistory[n], vHistory[n]]) for n in range(len(xHistory))]\n",
    "    nHistory.append(N)\n",
    "    errorE.append((np.abs(Ehistory[-1]-Ehistory[0])))\n",
    "    plt.plot(tHistory, Ehistory, label='$\\Delta t=$ %e' %dt)\n",
    "plt.xlabel('t')\n",
    "plt.ylabel('E')\n",
    "plt.legend(loc='best')\n",
    "plt.show()"
   ]
  },
  {
   "cell_type": "code",
   "execution_count": 324,
   "metadata": {},
   "outputs": [
    {
     "data": {
      "image/png": "[encoded data removed]",
      "text/plain": [
       "<Figure size 432x288 with 1 Axes>"
      ]
     },
     "metadata": {
      "needs_background": "light"
     },
     "output_type": "display_data"
    }
   ],
   "source": [
    "nHistory = np.array(nHistory, dtype=float)\n",
    "plt.loglog(nHistory, errorE, 'o', label='Errors in E')\n",
    "plt.plot(nHistory, nHistory**(-2), label='Slope -2')\n",
    "plt.xlabel('Number of time steps, N')\n",
    "plt.ylabel('Error in E')\n",
    "plt.legend();"
   ]
  },
  {
   "cell_type": "markdown",
   "metadata": {},
   "source": [
    "We see that error in E is decreasing with slope -2 on logarithmic scale which means we proved our method to have second order of accuracy."
   ]
  }
 ],
 "metadata": {
  "colab": {
   "collapsed_sections": [],
   "name": "SciComp2021_HW2.ipynb",
   "provenance": []
  },
  "kernelspec": {
   "display_name": "Python 3",
   "language": "python",
   "name": "python3"
  },
  "language_info": {
   "codemirror_mode": {
    "name": "ipython",
    "version": 3
   },
   "file_extension": ".py",
   "mimetype": "text/x-python",
   "name": "python",
   "nbconvert_exporter": "python",
   "pygments_lexer": "ipython3",
   "version": "3.8.8"
  }
 },
 "nbformat": 4,
 "nbformat_minor": 1
}
